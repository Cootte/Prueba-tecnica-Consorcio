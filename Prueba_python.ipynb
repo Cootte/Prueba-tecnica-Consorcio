{
 "cells": [
  {
   "cell_type": "code",
   "execution_count": 1,
   "id": "16e5c597",
   "metadata": {},
   "outputs": [
    {
     "name": "stdout",
     "output_type": "stream",
     "text": [
      "Tamaño de palabras (L), Catidad de palabras (D) y numero de pruebas(N)\n",
      "3 5 4 \n"
     ]
    }
   ],
   "source": [
    "print (\"Tamaño de palabras (L), Catidad de palabras (D) y numero de pruebas(N)\")\n",
    "\n",
    "L, D, N  = map(int, input().split())\n",
    "\n",
    "\n"
   ]
  },
  {
   "cell_type": "code",
   "execution_count": 2,
   "id": "0d6055fb",
   "metadata": {},
   "outputs": [
    {
     "name": "stdout",
     "output_type": "stream",
     "text": [
      "Escribas las palabras que dicen los alienigenas\n",
      "abc\n",
      "Escribas las palabras que dicen los alienigenas\n",
      "bca\n",
      "Escribas las palabras que dicen los alienigenas\n",
      "dca\n",
      "Escribas las palabras que dicen los alienigenas\n",
      "dbc\n",
      "Escribas las palabras que dicen los alienigenas\n",
      "cba\n"
     ]
    }
   ],
   "source": [
    "\n",
    "data = []\n",
    "for i in range(D): \n",
    "    print (\"Escribas las palabras que dicen los alienigenas\")\n",
    "    aux = input ()\n",
    "    data.append(aux[:L])\n",
    "\n"
   ]
  },
  {
   "cell_type": "code",
   "execution_count": 3,
   "id": "e128c464",
   "metadata": {},
   "outputs": [],
   "source": [
    "#'aux = []'    \n",
    "#for i in range(N): \n",
    "#    print (\"Escribas las palabras que dicen los alienigenas\")\n",
    "#    aux = input ()\n",
    "#    pruebas.append(aux)"
   ]
  },
  {
   "cell_type": "code",
   "execution_count": 4,
   "id": "17f3ed99",
   "metadata": {},
   "outputs": [
    {
     "name": "stdout",
     "output_type": "stream",
     "text": [
      "(ab)(bc)(ca)\n",
      "Case #1: 2\n",
      "abc\n",
      "Case #2: 1\n",
      "(abc)(abc)(abc)\n",
      "Case #3: 3\n",
      "(xyz)(bc)\n",
      "Case #4: 0\n"
     ]
    }
   ],
   "source": [
    "\n",
    "for i in range(N):\n",
    "    numCases = 0\n",
    "    case = input()\n",
    "    case = case.split(\")\")\n",
    "    for j in range(D):\n",
    "        if len(case) == 1:\n",
    "            if case[0] == data[j]:\n",
    "                numCases += 1\n",
    "        elif len(case) == L+1:\n",
    "            find = True\n",
    "            for k in range(L):\n",
    "                if case[k].find(data[j][k]) == -1:\n",
    "                    find = False\n",
    "                    break\n",
    "            if find:\n",
    "                numCases += 1\n",
    "    print(\"Case #\"+str(i+1)+\": \"+str(numCases))\n"
   ]
  },
  {
   "cell_type": "code",
   "execution_count": null,
   "id": "192aab52",
   "metadata": {},
   "outputs": [],
   "source": []
  }
 ],
 "metadata": {
  "kernelspec": {
   "display_name": "Python 3",
   "language": "python",
   "name": "python3"
  },
  "language_info": {
   "codemirror_mode": {
    "name": "ipython",
    "version": 3
   },
   "file_extension": ".py",
   "mimetype": "text/x-python",
   "name": "python",
   "nbconvert_exporter": "python",
   "pygments_lexer": "ipython3",
   "version": "3.8.8"
  }
 },
 "nbformat": 4,
 "nbformat_minor": 5
}

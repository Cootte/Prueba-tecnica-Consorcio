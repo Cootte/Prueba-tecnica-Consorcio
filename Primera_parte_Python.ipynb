{
  "nbformat": 4,
  "nbformat_minor": 0,
  "metadata": {
    "colab": {
      "name": "Untitled0.ipynb",
      "provenance": [],
      "collapsed_sections": [],
      "include_colab_link": true
    },
    "kernelspec": {
      "name": "python3",
      "display_name": "Python 3"
    },
    "language_info": {
      "name": "python"
    }
  },
  "cells": [
    {
      "cell_type": "markdown",
      "metadata": {
        "id": "view-in-github",
        "colab_type": "text"
      },
      "source": [
        "<a href=\"https://colab.research.google.com/github/Cootte/Prueba-tecnica-Consorcio/blob/main/Primera_parte_Python.ipynb\" target=\"_parent\"><img src=\"https://colab.research.google.com/assets/colab-badge.svg\" alt=\"Open In Colab\"/></a>"
      ]
    },
    {
      "cell_type": "code",
      "execution_count": null,
      "metadata": {
        "colab": {
          "base_uri": "https://localhost:8080/"
        },
        "id": "r0ibdTrZIwNZ",
        "outputId": "16e91a44-cd0b-454d-ff98-7c193f7914b9"
      },
      "outputs": [
        {
          "name": "stdout",
          "output_type": "stream",
          "text": [
            "Tamaño de palabras (L), Catidad de palabras (D) y numero de pruebas(N)\n",
            "3 5 4\n",
            "Escribas las palabras que dicen los alienigenas\n",
            "abc\n",
            "Escribas las palabras que dicen los alienigenas\n",
            "bca\n",
            "Escribas las palabras que dicen los alienigenas\n",
            "dac\n",
            "Escribas las palabras que dicen los alienigenas\n",
            "dbc\n",
            "Escribas las palabras que dicen los alienigenas\n",
            "cba\n"
          ]
        }
      ],
      "source": [
        "print (\"Tamaño de palabras (L), Catidad de palabras (D) y numero de pruebas(N)\")\n",
        "\n",
        "L, D, N  = map(int, input().split())\n",
        "\n",
        "data = []\n",
        "for i in range(D): \n",
        "    print (\"Escribas las palabras que dicen los alienigenas\")\n",
        "    aux = input ()\n",
        "    data.append(aux[:L])"
      ]
    },
    {
      "cell_type": "code",
      "source": [
        "\n",
        "for i in range(N):\n",
        "    numCases = 0\n",
        "    case = input()\n",
        "    case = case.replace(\")(\", \" \")\n",
        "    case = case.replace(\")\", \" \")\n",
        "    case = case.replace(\"(\", \" \") \n",
        "    case = case.strip().split(\" \")\n",
        "\n",
        "    #print(case)\n",
        "    #case = case.remove(\"(\")\n",
        "    for j in range(D):\n",
        "        \n",
        "        if len(case) == 1:\n",
        "            if case[0] == data[j]:\n",
        "                numCases += 1\n",
        "               \n",
        "        elif len(case) == L:\n",
        "            find = True\n",
        "            for k in range(L):\n",
        "                #print(str(case[k]) +\" -> \"+ str(data[j][k]))\n",
        "                if case[k].find(data[j][k]) == -1:\n",
        "                    \n",
        "                    find = False\n",
        "                    #break\n",
        "            if find:\n",
        "                numCases += 1\n",
        "    print(\"Case #\"+str(i+1)+\": \"+str(numCases))"
      ],
      "metadata": {
        "colab": {
          "base_uri": "https://localhost:8080/"
        },
        "id": "I9kyUBdxIzNC",
        "outputId": "e81aa070-4c92-4fcc-a57c-d57f556d993a"
      },
      "execution_count": 40,
      "outputs": [
        {
          "output_type": "stream",
          "name": "stdout",
          "text": [
            "(ab)(bc)(ca)\n",
            "Case #1: 2\n",
            "abc\n",
            "Case #2: 1\n",
            "(abc)(abc)(abc)\n",
            "Case #3: 3\n",
            "(xyz)(bc)\n",
            "Case #4: 0\n",
            "(ac)(ab)a\n",
            "Case #5: 1\n",
            "(ad)b(ab)\n",
            "Case #6: 0\n"
          ]
        }
      ]
    }
  ]
}
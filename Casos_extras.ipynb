{
  "nbformat": 4,
  "nbformat_minor": 0,
  "metadata": {
    "colab": {
      "name": "Copia de casos extras.ipynb",
      "provenance": [],
      "toc_visible": true,
      "authorship_tag": "ABX9TyO1JB33NSnqd8J8Io7TT1Z1",
      "include_colab_link": true
    },
    "kernelspec": {
      "name": "python3",
      "display_name": "Python 3"
    },
    "language_info": {
      "name": "python"
    }
  },
  "cells": [
    {
      "cell_type": "markdown",
      "metadata": {
        "id": "view-in-github",
        "colab_type": "text"
      },
      "source": [
        "<a href=\"https://colab.research.google.com/github/Cootte/Prueba-tecnica-Consorcio/blob/main/Copia_de_casos_extras.ipynb\" target=\"_parent\"><img src=\"https://colab.research.google.com/assets/colab-badge.svg\" alt=\"Open In Colab\"/></a>"
      ]
    },
    {
      "cell_type": "code",
      "execution_count": null,
      "metadata": {
        "colab": {
          "base_uri": "https://localhost:8080/"
        },
        "id": "SSndffaWD1hh",
        "outputId": "2931207b-2b58-4927-8356-f598f5f95d81"
      },
      "outputs": [
        {
          "name": "stdout",
          "output_type": "stream",
          "text": [
            "Tamaño de palabras (L), Catidad de palabras (D) y numero de pruebas(N)\n",
            "3 5 6\n",
            "Escribas las palabras que dicen los alienigenas\n",
            "abc\n",
            "Escribas las palabras que dicen los alienigenas\n",
            "bca\n",
            "Escribas las palabras que dicen los alienigenas\n",
            "dac\n",
            "Escribas las palabras que dicen los alienigenas\n",
            "dbc\n",
            "Escribas las palabras que dicen los alienigenas\n",
            "cba\n"
          ]
        }
      ],
      "source": [
        "print (\"Tamaño de palabras (L), Catidad de palabras (D) y numero de pruebas(N)\")\n",
        "\n",
        "L, D, N  = map(int, input().split())\n",
        "\n",
        "data = []\n",
        "for i in range(D): \n",
        "    print (\"Escribas las palabras que dicen los alienigenas\")\n",
        "    aux = input ()\n",
        "    data.append(aux[:L])\n",
        "    \n"
      ]
    },
    {
      "cell_type": "code",
      "source": [
        "for i in range(N):\n",
        "    numCases = 0\n",
        "    case = input()\n",
        "    case = case.split(\")\")\n",
        "    for j in range(D):\n",
        "        if len(case) == 1:\n",
        "            if case[0] == data[j]:\n",
        "                numCases += 1\n",
        "                print (numCases)\n",
        "        elif len(case) == L+1:\n",
        "            find = True\n",
        "            for k in range(L):\n",
        "                if case[k].find(data[j][k]) == -1:\n",
        "                    find = False\n",
        "                    break\n",
        "            if find:\n",
        "                numCases += 1\n",
        "    print(\"Case #\"+str(i+1)+\": \"+str(numCases))\n"
      ],
      "metadata": {
        "colab": {
          "base_uri": "https://localhost:8080/"
        },
        "id": "csj4FnpGGYXv",
        "outputId": "2e968fc9-8348-4ba8-e95c-684187e528a0"
      },
      "execution_count": null,
      "outputs": [
        {
          "output_type": "stream",
          "name": "stdout",
          "text": [
            "(ab)(bc)(ca)\n",
            "Case #1: 2\n",
            "abc\n",
            "1\n",
            "Case #2: 1\n",
            "(abc)(abc)(abc)\n",
            "Case #3: 3\n",
            "(xyz)(bc)\n",
            "Case #4: 0\n",
            "(ad)b(ab)\n",
            "Case #5: 0\n",
            "(ac)(ab)a\n",
            "Case #6: 0\n"
          ]
        }
      ]
    }
  ]
}
